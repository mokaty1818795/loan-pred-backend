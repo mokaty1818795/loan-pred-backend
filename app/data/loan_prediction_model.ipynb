{
 "cells": [
  {
   "cell_type": "code",
   "execution_count": null,
   "id": "491e720f",
   "metadata": {},
   "outputs": [],
   "source": [
    "# Importing Library\n",
    "import pandas as pd\n",
    "import numpy as np\n",
    "from sklearn import preprocessing\n",
    "from sklearn.preprocessing import LabelEncoder\n",
    "# Reading the training dataset in a dataframe using Pandas\n",
    "df = pd.read_csv(\"train.csv\")\n",
    "# Reading the test dataset in a dataframe using Pandas\n",
    "test = pd.read_csv(\"test.csv\")\n"
   ]
  },
  {
   "cell_type": "code",
   "execution_count": null,
   "id": "9d4cb102",
   "metadata": {},
   "outputs": [],
   "source": [
    "\n",
    "df['Gender'].fillna(df['Gender'].mode()[0], inplace=True)\n",
    "\n",
    "df['Married'].fillna(df['Married'].mode()[0], inplace=True)\n",
    "\n",
    "df['Dependents'].fillna(df['Dependents'].mode()[0], inplace=True)\n",
    "\n",
    "df['Credit_History'].fillna(df['Credit_History'].mode()[0], inplace=True)\n",
    "\n",
    "cat = ['Gender', 'Married', 'Dependents', 'Education',\n",
    "       'Self_Employed', 'Credit_History', 'Property_Area']\n",
    "\n",
    "for var in cat:\n",
    "    le = preprocessing.LabelEncoder()\n",
    "    df[var] = le.fit_transform(df[var].astype('str'))\n",
    "df.dtypes\n"
   ]
  },
  {
   "cell_type": "code",
   "execution_count": 35,
   "id": "7393e00c",
   "metadata": {},
   "outputs": [],
   "source": [
    "from sklearn import metrics\n",
    "from sklearn.model_selection import KFold\n",
    "\n",
    "\n",
    "\n",
    "def classification_model(model, data, predictors, outcome):\n",
    "\n",
    "    model.fit(data[predictors],data[outcome])\n",
    "\n",
    "    predictions = model.predict(data[predictors])\n",
    "\n",
    "    accuracy = metrics.accuracy_score(predictions,data[outcome])\n",
    "    print (\"Accuracy : %s\" % \"{0:.3%}\".format(accuracy))\n",
    "\n",
    "\n",
    "    kf = KFold(data.shape[0], n_folds=5)\n",
    "    error = []\n",
    "    for train, test in kf:\n",
    "\n",
    "        train_predictors = (data[predictors].iloc[train,:])\n",
    "        train_target = data[outcome].iloc[train]\n",
    "\n",
    "        model.fit(train_predictors, train_target)\n",
    "        error.append(model.score(data[predictors].iloc[test,:], data[outcome].iloc[test]))\n",
    " \n",
    "    print (\"Cross-Validation Score : %s\" % \"{0:.3%}\".format(np.mean(error)))\n",
    "\n",
    "\n",
    "    model.fit(data[predictors],data[outcome])\n",
    "\n",
    " "
   ]
  },
  {
   "cell_type": "code",
   "execution_count": null,
   "id": "9f202e0d",
   "metadata": {},
   "outputs": [],
   "source": [
    "df['Type'] = 'Train'\n",
    "test['Type'] = 'Test'\n",
    "fullData = pd.concat([df, test], axis=0, sort=True)\n",
    "\n",
    "\n",
    "fullData.isnull().sum()\n"
   ]
  },
  {
   "cell_type": "code",
   "execution_count": 37,
   "id": "e15ae526",
   "metadata": {},
   "outputs": [],
   "source": [
    "ID_col = ['Loan_ID']\n",
    "target_col = [\"Loan_Status\"]\n",
    "cat_cols = ['Credit_History','Dependents','Gender','Married','Education','Property_Area','Self_Employed']"
   ]
  },
  {
   "cell_type": "code",
   "execution_count": null,
   "id": "e7f71223",
   "metadata": {},
   "outputs": [],
   "source": [
    "fullData['LoanAmount'].fillna(fullData['LoanAmount'].mean(), inplace=True)\n",
    "\n",
    "fullData['LoanAmount_log'].fillna(\n",
    "    fullData['LoanAmount_log'].mean(), inplace=True)\n",
    "\n",
    "fullData['Loan_Amount_Term'].fillna(\n",
    "    fullData['Loan_Amount_Term'].mean(), inplace=True)\n",
    "\n",
    "fullData['ApplicantIncome'].fillna(\n",
    "    fullData['ApplicantIncome'].mean(), inplace=True)\n",
    "    \n",
    "fullData['CoapplicantIncome'].fillna(\n",
    "    fullData['CoapplicantIncome'].mean(), inplace=True)\n",
    "\n",
    "\n",
    "fullData['Gender'].fillna(fullData['Gender'].mode()[0], inplace=True)\n",
    "fullData['Married'].fillna(fullData['Married'].mode()[0], inplace=True)\n",
    "fullData['Dependents'].fillna(fullData['Dependents'].mode()[0], inplace=True)\n",
    "\n",
    "fullData['Loan_Amount_Term'].fillna(\n",
    "    fullData['Loan_Amount_Term'].mode()[0], inplace=True)\n",
    "\n",
    "fullData['Credit_History'].fillna(\n",
    "    fullData['Credit_History'].mode()[0], inplace=True)\n"
   ]
  },
  {
   "cell_type": "code",
   "execution_count": null,
   "id": "725e6b48",
   "metadata": {},
   "outputs": [],
   "source": [
    "\n",
    "\n",
    "fullData['TotalIncome'] = fullData['ApplicantIncome'] + \\\n",
    "    fullData['CoapplicantIncome']\n",
    "\n",
    "fullData['TotalIncome_log'] = np.log(fullData['TotalIncome'])\n",
    "\n",
    "fullData['TotalIncome_log'].hist(bins=20)\n"
   ]
  },
  {
   "cell_type": "code",
   "execution_count": null,
   "id": "c3d37487",
   "metadata": {},
   "outputs": [],
   "source": [
    "#create label encoders for categorical features\n",
    "for var in cat_cols:\n",
    "    number = LabelEncoder()\n",
    "    fullData[var] = number.fit_transform(fullData[var].astype('str'))\n",
    "\n",
    "train_modified = fullData[fullData['Type'] == 'Train']\n",
    "test_modified = fullData[fullData['Type'] == 'Test']\n",
    "train_modified[\"Loan_Status\"] = number.fit_transform(\n",
    "    train_modified[\"Loan_Status\"].astype('str'))\n"
   ]
  },
  {
   "cell_type": "code",
   "execution_count": null,
   "id": "74cd88e8",
   "metadata": {},
   "outputs": [],
   "source": [
    "from sklearn.linear_model import LogisticRegression\n",
    "\n",
    "predictors_Logistic=['Credit_History','Education','Gender']\n",
    "\n",
    "x_train = train_modified[list(predictors_Logistic)].values\n",
    "y_train = train_modified[\"Loan_Status\"].values\n",
    "\n",
    "x_test=test_modified[list(predictors_Logistic)].values"
   ]
  },
  {
   "cell_type": "code",
   "execution_count": 48,
   "id": "e978e575",
   "metadata": {},
   "outputs": [
    {
     "ename": "TypeError",
     "evalue": "LogisticRegression.fit() missing 1 required positional argument: 'y'",
     "output_type": "error",
     "traceback": [
      "\u001b[1;31m---------------------------------------------------------------------------\u001b[0m",
      "\u001b[1;31mTypeError\u001b[0m                                 Traceback (most recent call last)",
      "\u001b[1;32mc:\\Users\\Mokati\\Documents\\Acabuilds\\loan-pred-backend\\app\\data\\loan_prediction_model.ipynb Cell 10\u001b[0m in \u001b[0;36m<cell line: 3>\u001b[1;34m()\u001b[0m\n\u001b[0;32m      <a href='vscode-notebook-cell:/c%3A/Users/Mokati/Documents/Acabuilds/loan-pred-backend/app/data/loan_prediction_model.ipynb#X43sZmlsZQ%3D%3D?line=0'>1</a>\u001b[0m model \u001b[39m=\u001b[39m LogisticRegression()\n\u001b[1;32m----> <a href='vscode-notebook-cell:/c%3A/Users/Mokati/Documents/Acabuilds/loan-pred-backend/app/data/loan_prediction_model.ipynb#X43sZmlsZQ%3D%3D?line=2'>3</a>\u001b[0m model\u001b[39m.\u001b[39;49mfit(x_train)\n\u001b[0;32m      <a href='vscode-notebook-cell:/c%3A/Users/Mokati/Documents/Acabuilds/loan-pred-backend/app/data/loan_prediction_model.ipynb#X43sZmlsZQ%3D%3D?line=4'>5</a>\u001b[0m predicted\u001b[39m=\u001b[39m model\u001b[39m.\u001b[39mpredict(x_test)\n\u001b[0;32m      <a href='vscode-notebook-cell:/c%3A/Users/Mokati/Documents/Acabuilds/loan-pred-backend/app/data/loan_prediction_model.ipynb#X43sZmlsZQ%3D%3D?line=6'>7</a>\u001b[0m predicted \u001b[39m=\u001b[39m number\u001b[39m.\u001b[39minverse_transform(predicted)\n",
      "\u001b[1;31mTypeError\u001b[0m: LogisticRegression.fit() missing 1 required positional argument: 'y'"
     ]
    }
   ],
   "source": [
    "model = LogisticRegression()\n",
    "\n",
    "model.fit(x_train)\n",
    "\n",
    "predicted= model.predict(x_test,y_train)\n",
    "\n",
    "predicted = number.inverse_transform(predicted)\n",
    "\n",
    "test_modified['Loan_Status']=predicted\n",
    "\n",
    "outcome_var = 'Loan_Status'\n",
    "\n",
    "classification_model(model, df,predictors_Logistic,outcome_var)\n",
    "\n",
    "test_modified.to_csv(\"Logistic_Prediction.csv\",columns=['Loan_ID','Loan_Status'])"
   ]
  }
 ],
 "metadata": {
  "kernelspec": {
   "display_name": "Python 3.10.6 ('otehrvenv': venv)",
   "language": "python",
   "name": "python3"
  },
  "language_info": {
   "codemirror_mode": {
    "name": "ipython",
    "version": 3
   },
   "file_extension": ".py",
   "mimetype": "text/x-python",
   "name": "python",
   "nbconvert_exporter": "python",
   "pygments_lexer": "ipython3",
   "version": "3.10.6"
  },
  "vscode": {
   "interpreter": {
    "hash": "390582bcc3d1ddb11f6c2b3624db623108c2fdc3039bc994e9d8e045383bb675"
   }
  }
 },
 "nbformat": 4,
 "nbformat_minor": 5
}
